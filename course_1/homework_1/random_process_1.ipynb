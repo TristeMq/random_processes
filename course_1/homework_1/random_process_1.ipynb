{
  "nbformat": 4,
  "nbformat_minor": 0,
  "metadata": {
    "colab": {
      "provenance": []
    },
    "kernelspec": {
      "name": "python3",
      "display_name": "Python 3"
    },
    "language_info": {
      "name": "python"
    }
  },
  "cells": [
    {
      "cell_type": "markdown",
      "source": [
        "# Вычислительное дз 1 по случайным процессам"
      ],
      "metadata": {
        "id": "CFyiUtFy2IXh"
      }
    },
    {
      "cell_type": "code",
      "execution_count": null,
      "metadata": {
        "id": "JlNxH5ss1oIe"
      },
      "outputs": [],
      "source": [
        "import numpy as np\n",
        "import matplotlib.pyplot as plt"
      ]
    },
    {
      "cell_type": "markdown",
      "source": [
        "# Раcчет вероятностей"
      ],
      "metadata": {
        "id": "CwW2aLiv5ZKr"
      }
    },
    {
      "cell_type": "markdown",
      "source": [
        "## № 1 Вычислите при помощи любого статистического пакета следующие значения:\n",
        "\n"
      ],
      "metadata": {
        "id": "hrKB9HXK2Ts1"
      }
    },
    {
      "cell_type": "markdown",
      "source": [
        "<b> a) Вероятность того, что биномиальная случайная величина B(n=100, p = 0.3) примет значение, не превыщающее 25 </b>"
      ],
      "metadata": {
        "id": "adOYf0xP23Mz"
      }
    },
    {
      "cell_type": "code",
      "source": [
        "# Число успехов в конкретном случае\n",
        "number_of_successes = np.random.binomial(n=100, p=0.3)\n",
        "number_of_successes"
      ],
      "metadata": {
        "colab": {
          "base_uri": "https://localhost:8080/"
        },
        "id": "VKJK3tW213M3",
        "outputId": "16039d0e-0f3b-431d-d07f-e780dfe9371e"
      },
      "execution_count": null,
      "outputs": [
        {
          "output_type": "execute_result",
          "data": {
            "text/plain": [
              "31"
            ]
          },
          "metadata": {},
          "execution_count": 261
        }
      ]
    },
    {
      "cell_type": "code",
      "source": [
        "# Моделируем эксперимент 1000000 раз и считаем, сколько результатов получилось менее 25\n",
        "print(f\"Ответ: {sum(np.random.binomial(n=100, p=0.3, size=1000000) <= 25)/1000000}\")"
      ],
      "metadata": {
        "colab": {
          "base_uri": "https://localhost:8080/"
        },
        "id": "q4124e92-Yv4",
        "outputId": "24b64f27-a05f-445c-8dab-4e6e26d51575"
      },
      "execution_count": null,
      "outputs": [
        {
          "output_type": "stream",
          "name": "stdout",
          "text": [
            "Ответ: 0.163498\n"
          ]
        }
      ]
    },
    {
      "cell_type": "code",
      "source": [
        "# Эту же вероятность можно посчитать из куммулятивной функции распределения\n",
        "from scipy.stats import binom\n",
        "\n",
        "binom.cdf(25, n=100, p=0.3, loc=0)"
      ],
      "metadata": {
        "colab": {
          "base_uri": "https://localhost:8080/"
        },
        "id": "WjV3djPAFiSu",
        "outputId": "78ad6034-8977-4d9a-b641-de6e107c725c"
      },
      "execution_count": null,
      "outputs": [
        {
          "output_type": "execute_result",
          "data": {
            "text/plain": [
              "0.16313010446635084"
            ]
          },
          "metadata": {},
          "execution_count": 263
        }
      ]
    },
    {
      "cell_type": "markdown",
      "source": [
        "<b> b) Значение функции плотности нормальной случайной величины N(10, 25) в точке x = 7.5 </b>"
      ],
      "metadata": {
        "id": "aICoGpGK3Hhk"
      }
    },
    {
      "cell_type": "code",
      "source": [
        "from scipy.stats import norm, poisson\n",
        "alpha = 10\n",
        "sigma = np.sqrt(25)\n",
        "x = 7.5\n",
        "result = norm.pdf(x,loc=alpha, scale=sigma)\n",
        "print(f\"Ответ: {result}\")"
      ],
      "metadata": {
        "colab": {
          "base_uri": "https://localhost:8080/"
        },
        "id": "X5KMyBpQ3ioR",
        "outputId": "c946b9f7-43a3-4da6-d177-1f84dacf0896"
      },
      "execution_count": null,
      "outputs": [
        {
          "output_type": "stream",
          "name": "stdout",
          "text": [
            "Ответ: 0.0704130653528599\n"
          ]
        }
      ]
    },
    {
      "cell_type": "markdown",
      "source": [
        "<b> c) Вероятность того, что пуассоновская случайная величина $$Pois(λ = 100)$$ примет значение 115 </b>"
      ],
      "metadata": {
        "id": "IS896JaG3jYQ"
      }
    },
    {
      "cell_type": "code",
      "source": [
        "l=100\n",
        "print(f\"Ответ: {poisson.pmf(115, l, loc=0)}\")"
      ],
      "metadata": {
        "colab": {
          "base_uri": "https://localhost:8080/"
        },
        "id": "nEq1auQM4bvs",
        "outputId": "32c32004-ea6f-4bd6-c848-f535ca5f4ea9"
      },
      "execution_count": null,
      "outputs": [
        {
          "output_type": "stream",
          "name": "stdout",
          "text": [
            "Ответ: 0.01271780108889097\n"
          ]
        }
      ]
    },
    {
      "cell_type": "markdown",
      "source": [
        "<b>d) Среднее значение 10000 независимых случайных величин, имеющих экспоненциальное распределение с $$ λ = 0.4 $$ </b>"
      ],
      "metadata": {
        "id": "HoE4Rxom4uMV"
      }
    },
    {
      "cell_type": "code",
      "source": [
        "n=10000\n",
        "random_variables = np.random.exponential(scale=1/0.4, size=n)\n",
        "mean = np.mean(random_variables)\n",
        "print(f\"Ответ: {mean}\")"
      ],
      "metadata": {
        "colab": {
          "base_uri": "https://localhost:8080/"
        },
        "id": "zDtxPWqx5EyK",
        "outputId": "a178eafd-9390-4e8a-a697-8ff375e677e9"
      },
      "execution_count": null,
      "outputs": [
        {
          "output_type": "stream",
          "name": "stdout",
          "text": [
            "Ответ: 2.4914667428855424\n"
          ]
        }
      ]
    },
    {
      "cell_type": "markdown",
      "source": [
        "<b> e) Среднее значение 10000 независимых случайных геометрических величин с p=0.1 </b>"
      ],
      "metadata": {
        "id": "V0erMHhL5FBs"
      }
    },
    {
      "cell_type": "code",
      "source": [
        "n=10000\n",
        "random_variables = np.random.geometric(p=0.1, size=n)\n",
        "mean = np.mean(random_variables)\n",
        "print(f\"Ответ: {mean}\")"
      ],
      "metadata": {
        "colab": {
          "base_uri": "https://localhost:8080/"
        },
        "id": "OgpRXwA45QXI",
        "outputId": "2ee23dbf-5cad-442c-ca33-bd94521f6567"
      },
      "execution_count": null,
      "outputs": [
        {
          "output_type": "stream",
          "name": "stdout",
          "text": [
            "Ответ: 9.8801\n"
          ]
        }
      ]
    },
    {
      "cell_type": "markdown",
      "source": [
        "# Генераторы случайных чисел"
      ],
      "metadata": {
        "id": "FjH53hHT5ehG"
      }
    },
    {
      "cell_type": "markdown",
      "source": [
        "# № 2"
      ],
      "metadata": {
        "id": "X7t7FWRgMGA5"
      }
    },
    {
      "cell_type": "code",
      "source": [
        "# Генерируем случайные величины и проводим преобразования\n",
        "n=5000\n",
        "uniform_variables = np.random.uniform(size=n)\n",
        "transformed_variables = - np.log(1-uniform_variables)/2\n"
      ],
      "metadata": {
        "id": "BTBBP7B75hbS"
      },
      "execution_count": null,
      "outputs": []
    },
    {
      "cell_type": "code",
      "source": [
        "# Генерируем случайные величины экспоненциальной случайной величины\n",
        "exponential_variables = np.random.exponential(scale=1/2, size=n)"
      ],
      "metadata": {
        "id": "wdNsTtq2M8xk"
      },
      "execution_count": null,
      "outputs": []
    },
    {
      "cell_type": "code",
      "source": [
        "# Визуализация\n",
        "plt.hist(transformed_variables, bins=50)\n",
        "plt.hist(exponential_variables, bins=50)\n",
        "\n",
        "\n",
        "plt.title(\"Сравнение случайных величин\")\n",
        "plt.legend([\"Генерация из равномерного распределения\", \"Экспоненциальное распределение\"])\n",
        "plt.show()"
      ],
      "metadata": {
        "colab": {
          "base_uri": "https://localhost:8080/",
          "height": 452
        },
        "id": "L4Ox0IS4MXPr",
        "outputId": "f5ed96af-2fea-4628-e0cc-33cc94023df3"
      },
      "execution_count": null,
      "outputs": [
        {
          "output_type": "display_data",
          "data": {
            "text/plain": [
              "<Figure size 640x480 with 1 Axes>"
            ],
            "image/png": "[encoded data removed]"
          },
          "metadata": {}
        }
      ]
    },
    {
      "cell_type": "markdown",
      "source": [
        "# № 3"
      ],
      "metadata": {
        "id": "7hF7ksELNT99"
      }
    },
    {
      "cell_type": "code",
      "source": [
        "# Генерируем случайные величины\n",
        "n = 5000\n",
        "uniform_variables = np.random.uniform(low=0, high=2*np.pi, size=n)\n",
        "exponential_variables = np.random.exponential(scale=1, size=n)"
      ],
      "metadata": {
        "id": "SUuvsFwZNahe"
      },
      "execution_count": null,
      "outputs": []
    },
    {
      "cell_type": "code",
      "source": [
        "# Делаем преобразования над случайными величинами\n",
        "z1 = np.sqrt(2 * exponential_variables) * np.sin(uniform_variables)\n",
        "z2 = np.sqrt(2 * exponential_variables) * np.cos(uniform_variables)"
      ],
      "metadata": {
        "id": "KFbmcRcDNbqh"
      },
      "execution_count": null,
      "outputs": []
    },
    {
      "cell_type": "code",
      "source": [
        "# Визуализация\n",
        "fig, ax = plt.subplots(ncols=2)\n",
        "\n",
        "ax[0].hist(z1, bins=25)\n",
        "ax[0].set_title(\"z1\")\n",
        "ax[1].hist(z2, bins=25)\n",
        "ax[1].set_title(\"z2\")\n",
        "\n",
        "plt.show()"
      ],
      "metadata": {
        "colab": {
          "base_uri": "https://localhost:8080/",
          "height": 452
        },
        "id": "wOtbeHVjNbdV",
        "outputId": "89fd0aa6-076a-435a-9b02-5bc269da47ef"
      },
      "execution_count": null,
      "outputs": [
        {
          "output_type": "display_data",
          "data": {
            "text/plain": [
              "<Figure size 640x480 with 2 Axes>"
            ],
            "image/png": "[encoded data removed]"
          },
          "metadata": {}
        }
      ]
    },
    {
      "cell_type": "code",
      "source": [
        "from scipy.stats import moment\n",
        "\n",
        "third_moment_z1 = moment(z1, order = 3)\n",
        "fourth_moment_z1 =  moment(z1, order = 4)\n",
        "\n",
        "\n",
        "third_moment_z2 = moment(z2, order = 3)\n",
        "fourth_moment_z2 =  moment(z2, order = 4)\n",
        "\n",
        "print(f\"Третий {third_moment_z1} и четвертый {fourth_moment_z1} моменты для z1\")\n",
        "print(f\"Третий {third_moment_z2} и четвертый {fourth_moment_z2} моменты для z2\")"
      ],
      "metadata": {
        "colab": {
          "base_uri": "https://localhost:8080/"
        },
        "id": "31QSDZqUjXz7",
        "outputId": "c6ac40ab-6270-4e1c-cac6-1ce9aca9ffbf"
      },
      "execution_count": null,
      "outputs": [
        {
          "output_type": "stream",
          "name": "stdout",
          "text": [
            "Третий 0.03777089856805147 и четвертый 2.83879620793774 моменты для z1\n",
            "Третий 0.0584507728834806 и четвертый 2.977629671343591 моменты для z2\n"
          ]
        }
      ]
    },
    {
      "cell_type": "markdown",
      "source": [
        "# № 4"
      ],
      "metadata": {
        "id": "eUsXBtkzNcJ8"
      }
    },
    {
      "cell_type": "code",
      "source": [
        "n=1000000"
      ],
      "metadata": {
        "id": "4yydCoqHNdo0"
      },
      "execution_count": null,
      "outputs": []
    },
    {
      "cell_type": "code",
      "source": [
        "random_variables = np.random.normal(loc=0, scale = np.sqrt(1/n), size = n)"
      ],
      "metadata": {
        "id": "6U328MR7NeWD"
      },
      "execution_count": null,
      "outputs": []
    },
    {
      "cell_type": "code",
      "source": [
        "# Накопленные суммы W_t\n",
        "w = np.cumsum(random_variables)\n",
        "\n",
        "#Генерируем интервал i/n [0,1]\n",
        "t = np.arange(1, n+1)/n"
      ],
      "metadata": {
        "id": "jTJ1ph-ZNedL"
      },
      "execution_count": null,
      "outputs": []
    },
    {
      "cell_type": "code",
      "source": [
        "figure, ax = plt.subplots(figsize=(8, 8))\n",
        "ax.plot(t, w)\n",
        "ax.set_title(\"Винеровский процесс\")\n",
        "plt.show()"
      ],
      "metadata": {
        "colab": {
          "base_uri": "https://localhost:8080/",
          "height": 699
        },
        "id": "ix-Ko_wSne5T",
        "outputId": "1f001e28-a279-4c78-b7bf-ba2cbf20023d"
      },
      "execution_count": null,
      "outputs": [
        {
          "output_type": "display_data",
          "data": {
            "text/plain": [
              "<Figure size 800x800 with 1 Axes>"
            ],
            "image/png": "[encoded data removed]"
          },
          "metadata": {}
        }
      ]
    },
    {
      "cell_type": "markdown",
      "source": [
        "# Приближенное решение задач методом Монте-Карло"
      ],
      "metadata": {
        "id": "NOid9auRNexX"
      }
    },
    {
      "cell_type": "markdown",
      "source": [
        "# № 5\n",
        "\n",
        "<b>\n",
        "X, Y брошены независимо на отрезок [0,1]. Найдите приближенное значение вероятности того, что X/Y ближе к четному числу чем к нечетному </b>"
      ],
      "metadata": {
        "id": "gqCB6G-vjq61"
      }
    },
    {
      "cell_type": "code",
      "source": [
        "N = 100000 # число итераций в Монте-карло моделировании\n",
        "\n",
        "# независимо сгенерируем из равномерного распределения [0, 1]\n",
        "x = np.random.uniform(size=N)\n",
        "y = np.random.uniform(size=N)\n"
      ],
      "metadata": {
        "id": "r2Cp0Oo_NjBA"
      },
      "execution_count": null,
      "outputs": []
    },
    {
      "cell_type": "code",
      "source": [
        "# посчитаем частное для каждой итерации\n",
        "statistic = [(xi/yi) for xi,yi in zip(x, y)]\n",
        "statistic[:5]"
      ],
      "metadata": {
        "colab": {
          "base_uri": "https://localhost:8080/"
        },
        "id": "e-46Yvx6kKgF",
        "outputId": "fcaaaf98-dc31-4fa3-f4fb-9f69c63c4341"
      },
      "execution_count": null,
      "outputs": [
        {
          "output_type": "execute_result",
          "data": {
            "text/plain": [
              "[0.9339025635410877,\n",
              " 5.763110119647615,\n",
              " 7.497666197373938,\n",
              " 6.764500239917157,\n",
              " 7.075523497260025]"
            ]
          },
          "metadata": {},
          "execution_count": 280
        }
      ]
    },
    {
      "cell_type": "code",
      "source": [
        "# 1 если ближе к четному, 0 если к нечетному\n",
        "is_close_to_even = [1 if round(stat)%2==0 else 0 for stat in statistic]\n",
        "is_close_to_even[:5]"
      ],
      "metadata": {
        "colab": {
          "base_uri": "https://localhost:8080/"
        },
        "id": "SaYk_HrbzZIl",
        "outputId": "7b8cb5b6-637f-4dc6-87e6-8e59f7cfefb8"
      },
      "execution_count": null,
      "outputs": [
        {
          "output_type": "execute_result",
          "data": {
            "text/plain": [
              "[0, 1, 0, 0, 0]"
            ]
          },
          "metadata": {},
          "execution_count": 281
        }
      ]
    },
    {
      "cell_type": "code",
      "source": [
        "prob = np.mean(is_close_to_even)\n",
        "print(f\"Ответ: Вероятность равна {round(prob, 2)}\")"
      ],
      "metadata": {
        "colab": {
          "base_uri": "https://localhost:8080/"
        },
        "id": "bh7UaCO20wxG",
        "outputId": "be2bf7d2-3c96-47ef-f885-d1480fa5f5ef"
      },
      "execution_count": null,
      "outputs": [
        {
          "output_type": "stream",
          "name": "stdout",
          "text": [
            "Ответ: Вероятность равна 0.47\n"
          ]
        }
      ]
    },
    {
      "cell_type": "markdown",
      "source": [
        "# № 6\n",
        "<b> Палку разломали на n кусков, из кусков выбрали 3 наугад. Найдите приближенное значение вероятности того, что из кусков можно сложить треугольник при n=5,15,30 </b>"
      ],
      "metadata": {
        "id": "JxcCoC5DkOV_"
      }
    },
    {
      "cell_type": "code",
      "source": [
        "from itertools import combinations\n",
        "\n",
        "def check_trig(lengths) -> bool:\n",
        "  # функция для проверки возможности получения треугольника\n",
        "\n",
        "  # берем сочетания без повторений для длин\n",
        "  for a, b, c in combinations(lengths, 3):\n",
        "    if (a <= b + c) and (b <= a + c) and (c <= b + a):\n",
        "      return 1\n",
        "    else:\n",
        "      return 0"
      ],
      "metadata": {
        "id": "m4XJIBMr51uR"
      },
      "execution_count": null,
      "outputs": []
    },
    {
      "cell_type": "code",
      "source": [
        "N = 100000 # число итераций в Монте-карло моделировании\n",
        "\n",
        "# пусть длина палки будет 100, тогда куски можно моделировать как точки равномерного распределения [0, 100]\n",
        "\n",
        "# Напишем функцию для расчета вероятности при заданном n\n",
        "\n",
        "def count_probability(n: int) -> float:\n",
        "\n",
        "  is_trig = []\n",
        "  # Проводим расчеты по каждой итерации\n",
        "  for _ in range(N):\n",
        "    # генерируем точки на отрезке\n",
        "    dots = np.random.uniform(low=0, high=100, size=n)\n",
        "\n",
        "\n",
        "\n",
        "    #считаем длины отрезков\n",
        "    lengths = [(100 - dot) for dot in dots]\n",
        "\n",
        "    # мы сможем сделать треугольник из кусков, если будет выполняться неравенство треугольника\n",
        "    is_trig.append(check_trig(lengths))\n",
        "\n",
        "  # Возвращаем оценку вероятности\n",
        "  return np.mean(is_trig)\n",
        "\n"
      ],
      "metadata": {
        "id": "bTDlxT2ukg1y"
      },
      "execution_count": null,
      "outputs": []
    },
    {
      "cell_type": "code",
      "source": [
        "# для n = 5\n",
        "print(count_probability(n=5))"
      ],
      "metadata": {
        "colab": {
          "base_uri": "https://localhost:8080/"
        },
        "id": "zPXMrdgA9SJB",
        "outputId": "e3acdb0c-3d32-40c6-effa-c3db174aea6e"
      },
      "execution_count": null,
      "outputs": [
        {
          "output_type": "stream",
          "name": "stdout",
          "text": [
            "0.49872\n"
          ]
        }
      ]
    },
    {
      "cell_type": "code",
      "source": [
        "# для n = 15\n",
        "print(count_probability(n=15))"
      ],
      "metadata": {
        "colab": {
          "base_uri": "https://localhost:8080/"
        },
        "id": "NbYLng_v9dIh",
        "outputId": "07aba2de-8400-4655-8a89-4ca9bd3a457b"
      },
      "execution_count": null,
      "outputs": [
        {
          "output_type": "stream",
          "name": "stdout",
          "text": [
            "0.50081\n"
          ]
        }
      ]
    },
    {
      "cell_type": "code",
      "source": [
        "# для n = 30\n",
        "print(count_probability(n=30))"
      ],
      "metadata": {
        "colab": {
          "base_uri": "https://localhost:8080/"
        },
        "id": "TSz6Fnt19fVV",
        "outputId": "f7918e0d-2a6c-44b4-ba05-63d98a8ac323"
      },
      "execution_count": null,
      "outputs": [
        {
          "output_type": "stream",
          "name": "stdout",
          "text": [
            "0.49922\n"
          ]
        }
      ]
    }
  ]
}